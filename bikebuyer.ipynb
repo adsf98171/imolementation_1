{
 "cells": [
  {
   "cell_type": "code",
   "execution_count": 1,
   "metadata": {},
   "outputs": [],
   "source": [
    "import pandas as pd"
   ]
  },
  {
   "cell_type": "code",
   "execution_count": 2,
   "metadata": {},
   "outputs": [
    {
     "data": {
      "text/plain": [
       "CustomerID               int64\n",
       "City                    object\n",
       "StateProvinceName       object\n",
       "CountryRegionName       object\n",
       "Education               object\n",
       "Occupation              object\n",
       "Gender                  object\n",
       "MaritalStatus           object\n",
       "NumberCarsOwned          int64\n",
       "NumberChildrenAtHome     int64\n",
       "TotalChildren            int64\n",
       "YearlyIncome             int64\n",
       "Age                      int64\n",
       "BikeBuyer                int64\n",
       "dtype: object"
      ]
     },
     "execution_count": 2,
     "metadata": {},
     "output_type": "execute_result"
    }
   ],
   "source": [
    "traindata = pd.read_csv('customer_train_addBikeBuy.csv',encoding = 'utf-8-sig',index_col = 0) \n",
    "traindata.dtypes\n"
   ]
  },
  {
   "cell_type": "code",
   "execution_count": 3,
   "metadata": {},
   "outputs": [
    {
     "data": {
      "text/html": [
       "<div>\n",
       "<style scoped>\n",
       "    .dataframe tbody tr th:only-of-type {\n",
       "        vertical-align: middle;\n",
       "    }\n",
       "\n",
       "    .dataframe tbody tr th {\n",
       "        vertical-align: top;\n",
       "    }\n",
       "\n",
       "    .dataframe thead th {\n",
       "        text-align: right;\n",
       "    }\n",
       "</style>\n",
       "<table border=\"1\" class=\"dataframe\">\n",
       "  <thead>\n",
       "    <tr style=\"text-align: right;\">\n",
       "      <th></th>\n",
       "      <th>CustomerID</th>\n",
       "      <th>City</th>\n",
       "      <th>StateProvinceName</th>\n",
       "      <th>CountryRegionName</th>\n",
       "      <th>Education</th>\n",
       "      <th>Occupation</th>\n",
       "      <th>Gender</th>\n",
       "      <th>MaritalStatus</th>\n",
       "      <th>NumberCarsOwned</th>\n",
       "      <th>NumberChildrenAtHome</th>\n",
       "      <th>TotalChildren</th>\n",
       "      <th>YearlyIncome</th>\n",
       "      <th>Age</th>\n",
       "      <th>BikeBuyer</th>\n",
       "    </tr>\n",
       "  </thead>\n",
       "  <tbody>\n",
       "    <tr>\n",
       "      <th>0</th>\n",
       "      <td>11000</td>\n",
       "      <td>Rockhampton</td>\n",
       "      <td>Queensland</td>\n",
       "      <td>Australia</td>\n",
       "      <td>Bachelors</td>\n",
       "      <td>Professional</td>\n",
       "      <td>M</td>\n",
       "      <td>M</td>\n",
       "      <td>0</td>\n",
       "      <td>0</td>\n",
       "      <td>2</td>\n",
       "      <td>137947</td>\n",
       "      <td>32</td>\n",
       "      <td>0</td>\n",
       "    </tr>\n",
       "    <tr>\n",
       "      <th>1</th>\n",
       "      <td>11001</td>\n",
       "      <td>Seaford</td>\n",
       "      <td>Victoria</td>\n",
       "      <td>Australia</td>\n",
       "      <td>Bachelors</td>\n",
       "      <td>Professional</td>\n",
       "      <td>M</td>\n",
       "      <td>S</td>\n",
       "      <td>1</td>\n",
       "      <td>3</td>\n",
       "      <td>3</td>\n",
       "      <td>101141</td>\n",
       "      <td>33</td>\n",
       "      <td>1</td>\n",
       "    </tr>\n",
       "    <tr>\n",
       "      <th>2</th>\n",
       "      <td>11002</td>\n",
       "      <td>Hobart</td>\n",
       "      <td>Tasmania</td>\n",
       "      <td>Australia</td>\n",
       "      <td>Bachelors</td>\n",
       "      <td>Professional</td>\n",
       "      <td>M</td>\n",
       "      <td>M</td>\n",
       "      <td>1</td>\n",
       "      <td>3</td>\n",
       "      <td>3</td>\n",
       "      <td>91945</td>\n",
       "      <td>33</td>\n",
       "      <td>0</td>\n",
       "    </tr>\n",
       "    <tr>\n",
       "      <th>3</th>\n",
       "      <td>11003</td>\n",
       "      <td>North Ryde</td>\n",
       "      <td>New South Wales</td>\n",
       "      <td>Australia</td>\n",
       "      <td>Bachelors</td>\n",
       "      <td>Professional</td>\n",
       "      <td>F</td>\n",
       "      <td>S</td>\n",
       "      <td>1</td>\n",
       "      <td>0</td>\n",
       "      <td>0</td>\n",
       "      <td>86688</td>\n",
       "      <td>30</td>\n",
       "      <td>0</td>\n",
       "    </tr>\n",
       "    <tr>\n",
       "      <th>4</th>\n",
       "      <td>11004</td>\n",
       "      <td>Wollongong</td>\n",
       "      <td>New South Wales</td>\n",
       "      <td>Australia</td>\n",
       "      <td>Bachelors</td>\n",
       "      <td>Professional</td>\n",
       "      <td>F</td>\n",
       "      <td>S</td>\n",
       "      <td>4</td>\n",
       "      <td>5</td>\n",
       "      <td>5</td>\n",
       "      <td>92771</td>\n",
       "      <td>30</td>\n",
       "      <td>1</td>\n",
       "    </tr>\n",
       "  </tbody>\n",
       "</table>\n",
       "</div>"
      ],
      "text/plain": [
       "   CustomerID         City StateProvinceName CountryRegionName   Education  \\\n",
       "0       11000  Rockhampton        Queensland         Australia  Bachelors    \n",
       "1       11001      Seaford          Victoria         Australia  Bachelors    \n",
       "2       11002       Hobart          Tasmania         Australia  Bachelors    \n",
       "3       11003   North Ryde   New South Wales         Australia  Bachelors    \n",
       "4       11004   Wollongong   New South Wales         Australia  Bachelors    \n",
       "\n",
       "     Occupation Gender MaritalStatus  NumberCarsOwned  NumberChildrenAtHome  \\\n",
       "0  Professional      M             M                0                     0   \n",
       "1  Professional      M             S                1                     3   \n",
       "2  Professional      M             M                1                     3   \n",
       "3  Professional      F             S                1                     0   \n",
       "4  Professional      F             S                4                     5   \n",
       "\n",
       "   TotalChildren  YearlyIncome  Age  BikeBuyer  \n",
       "0              2        137947   32          0  \n",
       "1              3        101141   33          1  \n",
       "2              3         91945   33          0  \n",
       "3              0         86688   30          0  \n",
       "4              5         92771   30          1  "
      ]
     },
     "execution_count": 3,
     "metadata": {},
     "output_type": "execute_result"
    }
   ],
   "source": [
    "traindata.head()"
   ]
  },
  {
   "cell_type": "code",
   "execution_count": 4,
   "metadata": {},
   "outputs": [
    {
     "data": {
      "text/plain": [
       "0.6683682771194166"
      ]
     },
     "execution_count": 4,
     "metadata": {},
     "output_type": "execute_result"
    }
   ],
   "source": [
    "traindata[traindata['BikeBuyer'] == 0].shape[0]/traindata['BikeBuyer'].shape[0]"
   ]
  },
  {
   "cell_type": "code",
   "execution_count": 5,
   "metadata": {},
   "outputs": [],
   "source": [
    "from sklearn.linear_model import LogisticRegression"
   ]
  },
  {
   "cell_type": "code",
   "execution_count": 6,
   "metadata": {},
   "outputs": [
    {
     "data": {
      "text/html": [
       "<div>\n",
       "<style scoped>\n",
       "    .dataframe tbody tr th:only-of-type {\n",
       "        vertical-align: middle;\n",
       "    }\n",
       "\n",
       "    .dataframe tbody tr th {\n",
       "        vertical-align: top;\n",
       "    }\n",
       "\n",
       "    .dataframe thead th {\n",
       "        text-align: right;\n",
       "    }\n",
       "</style>\n",
       "<table border=\"1\" class=\"dataframe\">\n",
       "  <thead>\n",
       "    <tr style=\"text-align: right;\">\n",
       "      <th></th>\n",
       "      <th>Clerical</th>\n",
       "      <th>Management</th>\n",
       "      <th>Manual</th>\n",
       "      <th>Professional</th>\n",
       "      <th>Skilled Manual</th>\n",
       "    </tr>\n",
       "  </thead>\n",
       "  <tbody>\n",
       "    <tr>\n",
       "      <th>0</th>\n",
       "      <td>0</td>\n",
       "      <td>0</td>\n",
       "      <td>0</td>\n",
       "      <td>1</td>\n",
       "      <td>0</td>\n",
       "    </tr>\n",
       "    <tr>\n",
       "      <th>1</th>\n",
       "      <td>0</td>\n",
       "      <td>0</td>\n",
       "      <td>0</td>\n",
       "      <td>1</td>\n",
       "      <td>0</td>\n",
       "    </tr>\n",
       "    <tr>\n",
       "      <th>2</th>\n",
       "      <td>0</td>\n",
       "      <td>0</td>\n",
       "      <td>0</td>\n",
       "      <td>1</td>\n",
       "      <td>0</td>\n",
       "    </tr>\n",
       "    <tr>\n",
       "      <th>3</th>\n",
       "      <td>0</td>\n",
       "      <td>0</td>\n",
       "      <td>0</td>\n",
       "      <td>1</td>\n",
       "      <td>0</td>\n",
       "    </tr>\n",
       "    <tr>\n",
       "      <th>4</th>\n",
       "      <td>0</td>\n",
       "      <td>0</td>\n",
       "      <td>0</td>\n",
       "      <td>1</td>\n",
       "      <td>0</td>\n",
       "    </tr>\n",
       "    <tr>\n",
       "      <th>...</th>\n",
       "      <td>...</td>\n",
       "      <td>...</td>\n",
       "      <td>...</td>\n",
       "      <td>...</td>\n",
       "      <td>...</td>\n",
       "    </tr>\n",
       "    <tr>\n",
       "      <th>16744</th>\n",
       "      <td>1</td>\n",
       "      <td>0</td>\n",
       "      <td>0</td>\n",
       "      <td>0</td>\n",
       "      <td>0</td>\n",
       "    </tr>\n",
       "    <tr>\n",
       "      <th>16745</th>\n",
       "      <td>1</td>\n",
       "      <td>0</td>\n",
       "      <td>0</td>\n",
       "      <td>0</td>\n",
       "      <td>0</td>\n",
       "    </tr>\n",
       "    <tr>\n",
       "      <th>16746</th>\n",
       "      <td>1</td>\n",
       "      <td>0</td>\n",
       "      <td>0</td>\n",
       "      <td>0</td>\n",
       "      <td>0</td>\n",
       "    </tr>\n",
       "    <tr>\n",
       "      <th>16747</th>\n",
       "      <td>1</td>\n",
       "      <td>0</td>\n",
       "      <td>0</td>\n",
       "      <td>0</td>\n",
       "      <td>0</td>\n",
       "    </tr>\n",
       "    <tr>\n",
       "      <th>16748</th>\n",
       "      <td>1</td>\n",
       "      <td>0</td>\n",
       "      <td>0</td>\n",
       "      <td>0</td>\n",
       "      <td>0</td>\n",
       "    </tr>\n",
       "  </tbody>\n",
       "</table>\n",
       "<p>16455 rows × 5 columns</p>\n",
       "</div>"
      ],
      "text/plain": [
       "       Clerical  Management  Manual  Professional  Skilled Manual\n",
       "0             0           0       0             1               0\n",
       "1             0           0       0             1               0\n",
       "2             0           0       0             1               0\n",
       "3             0           0       0             1               0\n",
       "4             0           0       0             1               0\n",
       "...         ...         ...     ...           ...             ...\n",
       "16744         1           0       0             0               0\n",
       "16745         1           0       0             0               0\n",
       "16746         1           0       0             0               0\n",
       "16747         1           0       0             0               0\n",
       "16748         1           0       0             0               0\n",
       "\n",
       "[16455 rows x 5 columns]"
      ]
     },
     "execution_count": 6,
     "metadata": {},
     "output_type": "execute_result"
    }
   ],
   "source": [
    "#轉換工作\n",
    "new_clos = pd.get_dummies(traindata['Occupation'])\n",
    "new_clos"
   ]
  },
  {
   "cell_type": "code",
   "execution_count": 7,
   "metadata": {},
   "outputs": [
    {
     "data": {
      "text/html": [
       "<div>\n",
       "<style scoped>\n",
       "    .dataframe tbody tr th:only-of-type {\n",
       "        vertical-align: middle;\n",
       "    }\n",
       "\n",
       "    .dataframe tbody tr th {\n",
       "        vertical-align: top;\n",
       "    }\n",
       "\n",
       "    .dataframe thead th {\n",
       "        text-align: right;\n",
       "    }\n",
       "</style>\n",
       "<table border=\"1\" class=\"dataframe\">\n",
       "  <thead>\n",
       "    <tr style=\"text-align: right;\">\n",
       "      <th></th>\n",
       "      <th>CustomerID</th>\n",
       "      <th>City</th>\n",
       "      <th>StateProvinceName</th>\n",
       "      <th>CountryRegionName</th>\n",
       "      <th>Education</th>\n",
       "      <th>Occupation</th>\n",
       "      <th>Gender</th>\n",
       "      <th>MaritalStatus</th>\n",
       "      <th>NumberCarsOwned</th>\n",
       "      <th>NumberChildrenAtHome</th>\n",
       "      <th>TotalChildren</th>\n",
       "      <th>YearlyIncome</th>\n",
       "      <th>Age</th>\n",
       "      <th>BikeBuyer</th>\n",
       "    </tr>\n",
       "  </thead>\n",
       "  <tbody>\n",
       "    <tr>\n",
       "      <th>0</th>\n",
       "      <td>11000</td>\n",
       "      <td>Rockhampton</td>\n",
       "      <td>Queensland</td>\n",
       "      <td>Australia</td>\n",
       "      <td>Bachelors</td>\n",
       "      <td>Professional</td>\n",
       "      <td>1</td>\n",
       "      <td>0</td>\n",
       "      <td>0</td>\n",
       "      <td>0</td>\n",
       "      <td>2</td>\n",
       "      <td>137947</td>\n",
       "      <td>32</td>\n",
       "      <td>0</td>\n",
       "    </tr>\n",
       "    <tr>\n",
       "      <th>1</th>\n",
       "      <td>11001</td>\n",
       "      <td>Seaford</td>\n",
       "      <td>Victoria</td>\n",
       "      <td>Australia</td>\n",
       "      <td>Bachelors</td>\n",
       "      <td>Professional</td>\n",
       "      <td>1</td>\n",
       "      <td>1</td>\n",
       "      <td>1</td>\n",
       "      <td>3</td>\n",
       "      <td>3</td>\n",
       "      <td>101141</td>\n",
       "      <td>33</td>\n",
       "      <td>1</td>\n",
       "    </tr>\n",
       "    <tr>\n",
       "      <th>2</th>\n",
       "      <td>11002</td>\n",
       "      <td>Hobart</td>\n",
       "      <td>Tasmania</td>\n",
       "      <td>Australia</td>\n",
       "      <td>Bachelors</td>\n",
       "      <td>Professional</td>\n",
       "      <td>1</td>\n",
       "      <td>0</td>\n",
       "      <td>1</td>\n",
       "      <td>3</td>\n",
       "      <td>3</td>\n",
       "      <td>91945</td>\n",
       "      <td>33</td>\n",
       "      <td>0</td>\n",
       "    </tr>\n",
       "    <tr>\n",
       "      <th>3</th>\n",
       "      <td>11003</td>\n",
       "      <td>North Ryde</td>\n",
       "      <td>New South Wales</td>\n",
       "      <td>Australia</td>\n",
       "      <td>Bachelors</td>\n",
       "      <td>Professional</td>\n",
       "      <td>0</td>\n",
       "      <td>1</td>\n",
       "      <td>1</td>\n",
       "      <td>0</td>\n",
       "      <td>0</td>\n",
       "      <td>86688</td>\n",
       "      <td>30</td>\n",
       "      <td>0</td>\n",
       "    </tr>\n",
       "    <tr>\n",
       "      <th>4</th>\n",
       "      <td>11004</td>\n",
       "      <td>Wollongong</td>\n",
       "      <td>New South Wales</td>\n",
       "      <td>Australia</td>\n",
       "      <td>Bachelors</td>\n",
       "      <td>Professional</td>\n",
       "      <td>0</td>\n",
       "      <td>1</td>\n",
       "      <td>4</td>\n",
       "      <td>5</td>\n",
       "      <td>5</td>\n",
       "      <td>92771</td>\n",
       "      <td>30</td>\n",
       "      <td>1</td>\n",
       "    </tr>\n",
       "    <tr>\n",
       "      <th>...</th>\n",
       "      <td>...</td>\n",
       "      <td>...</td>\n",
       "      <td>...</td>\n",
       "      <td>...</td>\n",
       "      <td>...</td>\n",
       "      <td>...</td>\n",
       "      <td>...</td>\n",
       "      <td>...</td>\n",
       "      <td>...</td>\n",
       "      <td>...</td>\n",
       "      <td>...</td>\n",
       "      <td>...</td>\n",
       "      <td>...</td>\n",
       "      <td>...</td>\n",
       "    </tr>\n",
       "    <tr>\n",
       "      <th>16744</th>\n",
       "      <td>29478</td>\n",
       "      <td>Stoke-on-Trent</td>\n",
       "      <td>England</td>\n",
       "      <td>United Kingdom</td>\n",
       "      <td>Graduate Degree</td>\n",
       "      <td>Clerical</td>\n",
       "      <td>1</td>\n",
       "      <td>1</td>\n",
       "      <td>0</td>\n",
       "      <td>0</td>\n",
       "      <td>3</td>\n",
       "      <td>45986</td>\n",
       "      <td>39</td>\n",
       "      <td>0</td>\n",
       "    </tr>\n",
       "    <tr>\n",
       "      <th>16745</th>\n",
       "      <td>29479</td>\n",
       "      <td>Versailles</td>\n",
       "      <td>Yveline</td>\n",
       "      <td>France</td>\n",
       "      <td>Graduate Degree</td>\n",
       "      <td>Clerical</td>\n",
       "      <td>1</td>\n",
       "      <td>0</td>\n",
       "      <td>0</td>\n",
       "      <td>0</td>\n",
       "      <td>1</td>\n",
       "      <td>80049</td>\n",
       "      <td>40</td>\n",
       "      <td>0</td>\n",
       "    </tr>\n",
       "    <tr>\n",
       "      <th>16746</th>\n",
       "      <td>29480</td>\n",
       "      <td>London</td>\n",
       "      <td>England</td>\n",
       "      <td>United Kingdom</td>\n",
       "      <td>Graduate Degree</td>\n",
       "      <td>Clerical</td>\n",
       "      <td>0</td>\n",
       "      <td>1</td>\n",
       "      <td>0</td>\n",
       "      <td>0</td>\n",
       "      <td>3</td>\n",
       "      <td>60417</td>\n",
       "      <td>38</td>\n",
       "      <td>1</td>\n",
       "    </tr>\n",
       "    <tr>\n",
       "      <th>16747</th>\n",
       "      <td>29481</td>\n",
       "      <td>Hof</td>\n",
       "      <td>Bayern</td>\n",
       "      <td>Germany</td>\n",
       "      <td>Graduate Degree</td>\n",
       "      <td>Clerical</td>\n",
       "      <td>1</td>\n",
       "      <td>1</td>\n",
       "      <td>0</td>\n",
       "      <td>0</td>\n",
       "      <td>3</td>\n",
       "      <td>66653</td>\n",
       "      <td>38</td>\n",
       "      <td>0</td>\n",
       "    </tr>\n",
       "    <tr>\n",
       "      <th>16748</th>\n",
       "      <td>29482</td>\n",
       "      <td>Saint Ouen</td>\n",
       "      <td>Charente-Maritime</td>\n",
       "      <td>France</td>\n",
       "      <td>Bachelors</td>\n",
       "      <td>Clerical</td>\n",
       "      <td>1</td>\n",
       "      <td>0</td>\n",
       "      <td>0</td>\n",
       "      <td>0</td>\n",
       "      <td>3</td>\n",
       "      <td>59736</td>\n",
       "      <td>39</td>\n",
       "      <td>0</td>\n",
       "    </tr>\n",
       "  </tbody>\n",
       "</table>\n",
       "<p>16455 rows × 14 columns</p>\n",
       "</div>"
      ],
      "text/plain": [
       "       CustomerID            City  StateProvinceName CountryRegionName  \\\n",
       "0           11000     Rockhampton         Queensland         Australia   \n",
       "1           11001         Seaford           Victoria         Australia   \n",
       "2           11002          Hobart           Tasmania         Australia   \n",
       "3           11003      North Ryde    New South Wales         Australia   \n",
       "4           11004      Wollongong    New South Wales         Australia   \n",
       "...           ...             ...                ...               ...   \n",
       "16744       29478  Stoke-on-Trent            England    United Kingdom   \n",
       "16745       29479      Versailles            Yveline            France   \n",
       "16746       29480          London            England    United Kingdom   \n",
       "16747       29481             Hof             Bayern           Germany   \n",
       "16748       29482      Saint Ouen  Charente-Maritime            France   \n",
       "\n",
       "             Education    Occupation  Gender  MaritalStatus  NumberCarsOwned  \\\n",
       "0           Bachelors   Professional       1              0                0   \n",
       "1           Bachelors   Professional       1              1                1   \n",
       "2           Bachelors   Professional       1              0                1   \n",
       "3           Bachelors   Professional       0              1                1   \n",
       "4           Bachelors   Professional       0              1                4   \n",
       "...                ...           ...     ...            ...              ...   \n",
       "16744  Graduate Degree      Clerical       1              1                0   \n",
       "16745  Graduate Degree      Clerical       1              0                0   \n",
       "16746  Graduate Degree      Clerical       0              1                0   \n",
       "16747  Graduate Degree      Clerical       1              1                0   \n",
       "16748       Bachelors       Clerical       1              0                0   \n",
       "\n",
       "       NumberChildrenAtHome  TotalChildren  YearlyIncome  Age  BikeBuyer  \n",
       "0                         0              2        137947   32          0  \n",
       "1                         3              3        101141   33          1  \n",
       "2                         3              3         91945   33          0  \n",
       "3                         0              0         86688   30          0  \n",
       "4                         5              5         92771   30          1  \n",
       "...                     ...            ...           ...  ...        ...  \n",
       "16744                     0              3         45986   39          0  \n",
       "16745                     0              1         80049   40          0  \n",
       "16746                     0              3         60417   38          1  \n",
       "16747                     0              3         66653   38          0  \n",
       "16748                     0              3         59736   39          0  \n",
       "\n",
       "[16455 rows x 14 columns]"
      ]
     },
     "execution_count": 7,
     "metadata": {},
     "output_type": "execute_result"
    }
   ],
   "source": [
    "#轉換性別 婚姻\n",
    "from sklearn.preprocessing import LabelEncoder\n",
    "le = LabelEncoder()\n",
    "\n",
    "traindata['Gender']=le.fit_transform(traindata['Gender'])\n",
    "traindata['MaritalStatus']=le.fit_transform(traindata['MaritalStatus'])\n",
    "traindata"
   ]
  },
  {
   "cell_type": "code",
   "execution_count": 8,
   "metadata": {},
   "outputs": [
    {
     "data": {
      "text/plain": [
       "array(['Bachelors ', 'Partial College', 'High School',\n",
       "       'Partial High School', 'Graduate Degree'], dtype=object)"
      ]
     },
     "execution_count": 8,
     "metadata": {},
     "output_type": "execute_result"
    }
   ],
   "source": [
    "#轉換教育\n",
    "traindata['Education'].unique()"
   ]
  },
  {
   "cell_type": "code",
   "execution_count": 9,
   "metadata": {},
   "outputs": [
    {
     "data": {
      "text/html": [
       "<div>\n",
       "<style scoped>\n",
       "    .dataframe tbody tr th:only-of-type {\n",
       "        vertical-align: middle;\n",
       "    }\n",
       "\n",
       "    .dataframe tbody tr th {\n",
       "        vertical-align: top;\n",
       "    }\n",
       "\n",
       "    .dataframe thead th {\n",
       "        text-align: right;\n",
       "    }\n",
       "</style>\n",
       "<table border=\"1\" class=\"dataframe\">\n",
       "  <thead>\n",
       "    <tr style=\"text-align: right;\">\n",
       "      <th></th>\n",
       "      <th>CustomerID</th>\n",
       "      <th>City</th>\n",
       "      <th>StateProvinceName</th>\n",
       "      <th>CountryRegionName</th>\n",
       "      <th>Education</th>\n",
       "      <th>Occupation</th>\n",
       "      <th>Gender</th>\n",
       "      <th>MaritalStatus</th>\n",
       "      <th>NumberCarsOwned</th>\n",
       "      <th>NumberChildrenAtHome</th>\n",
       "      <th>TotalChildren</th>\n",
       "      <th>YearlyIncome</th>\n",
       "      <th>Age</th>\n",
       "      <th>BikeBuyer</th>\n",
       "    </tr>\n",
       "  </thead>\n",
       "  <tbody>\n",
       "    <tr>\n",
       "      <th>0</th>\n",
       "      <td>11000</td>\n",
       "      <td>Rockhampton</td>\n",
       "      <td>Queensland</td>\n",
       "      <td>Australia</td>\n",
       "      <td>4</td>\n",
       "      <td>Professional</td>\n",
       "      <td>1</td>\n",
       "      <td>0</td>\n",
       "      <td>0</td>\n",
       "      <td>0</td>\n",
       "      <td>2</td>\n",
       "      <td>137947</td>\n",
       "      <td>32</td>\n",
       "      <td>0</td>\n",
       "    </tr>\n",
       "    <tr>\n",
       "      <th>1</th>\n",
       "      <td>11001</td>\n",
       "      <td>Seaford</td>\n",
       "      <td>Victoria</td>\n",
       "      <td>Australia</td>\n",
       "      <td>4</td>\n",
       "      <td>Professional</td>\n",
       "      <td>1</td>\n",
       "      <td>1</td>\n",
       "      <td>1</td>\n",
       "      <td>3</td>\n",
       "      <td>3</td>\n",
       "      <td>101141</td>\n",
       "      <td>33</td>\n",
       "      <td>1</td>\n",
       "    </tr>\n",
       "    <tr>\n",
       "      <th>2</th>\n",
       "      <td>11002</td>\n",
       "      <td>Hobart</td>\n",
       "      <td>Tasmania</td>\n",
       "      <td>Australia</td>\n",
       "      <td>4</td>\n",
       "      <td>Professional</td>\n",
       "      <td>1</td>\n",
       "      <td>0</td>\n",
       "      <td>1</td>\n",
       "      <td>3</td>\n",
       "      <td>3</td>\n",
       "      <td>91945</td>\n",
       "      <td>33</td>\n",
       "      <td>0</td>\n",
       "    </tr>\n",
       "    <tr>\n",
       "      <th>3</th>\n",
       "      <td>11003</td>\n",
       "      <td>North Ryde</td>\n",
       "      <td>New South Wales</td>\n",
       "      <td>Australia</td>\n",
       "      <td>4</td>\n",
       "      <td>Professional</td>\n",
       "      <td>0</td>\n",
       "      <td>1</td>\n",
       "      <td>1</td>\n",
       "      <td>0</td>\n",
       "      <td>0</td>\n",
       "      <td>86688</td>\n",
       "      <td>30</td>\n",
       "      <td>0</td>\n",
       "    </tr>\n",
       "    <tr>\n",
       "      <th>4</th>\n",
       "      <td>11004</td>\n",
       "      <td>Wollongong</td>\n",
       "      <td>New South Wales</td>\n",
       "      <td>Australia</td>\n",
       "      <td>4</td>\n",
       "      <td>Professional</td>\n",
       "      <td>0</td>\n",
       "      <td>1</td>\n",
       "      <td>4</td>\n",
       "      <td>5</td>\n",
       "      <td>5</td>\n",
       "      <td>92771</td>\n",
       "      <td>30</td>\n",
       "      <td>1</td>\n",
       "    </tr>\n",
       "    <tr>\n",
       "      <th>...</th>\n",
       "      <td>...</td>\n",
       "      <td>...</td>\n",
       "      <td>...</td>\n",
       "      <td>...</td>\n",
       "      <td>...</td>\n",
       "      <td>...</td>\n",
       "      <td>...</td>\n",
       "      <td>...</td>\n",
       "      <td>...</td>\n",
       "      <td>...</td>\n",
       "      <td>...</td>\n",
       "      <td>...</td>\n",
       "      <td>...</td>\n",
       "      <td>...</td>\n",
       "    </tr>\n",
       "    <tr>\n",
       "      <th>16744</th>\n",
       "      <td>29478</td>\n",
       "      <td>Stoke-on-Trent</td>\n",
       "      <td>England</td>\n",
       "      <td>United Kingdom</td>\n",
       "      <td>5</td>\n",
       "      <td>Clerical</td>\n",
       "      <td>1</td>\n",
       "      <td>1</td>\n",
       "      <td>0</td>\n",
       "      <td>0</td>\n",
       "      <td>3</td>\n",
       "      <td>45986</td>\n",
       "      <td>39</td>\n",
       "      <td>0</td>\n",
       "    </tr>\n",
       "    <tr>\n",
       "      <th>16745</th>\n",
       "      <td>29479</td>\n",
       "      <td>Versailles</td>\n",
       "      <td>Yveline</td>\n",
       "      <td>France</td>\n",
       "      <td>5</td>\n",
       "      <td>Clerical</td>\n",
       "      <td>1</td>\n",
       "      <td>0</td>\n",
       "      <td>0</td>\n",
       "      <td>0</td>\n",
       "      <td>1</td>\n",
       "      <td>80049</td>\n",
       "      <td>40</td>\n",
       "      <td>0</td>\n",
       "    </tr>\n",
       "    <tr>\n",
       "      <th>16746</th>\n",
       "      <td>29480</td>\n",
       "      <td>London</td>\n",
       "      <td>England</td>\n",
       "      <td>United Kingdom</td>\n",
       "      <td>5</td>\n",
       "      <td>Clerical</td>\n",
       "      <td>0</td>\n",
       "      <td>1</td>\n",
       "      <td>0</td>\n",
       "      <td>0</td>\n",
       "      <td>3</td>\n",
       "      <td>60417</td>\n",
       "      <td>38</td>\n",
       "      <td>1</td>\n",
       "    </tr>\n",
       "    <tr>\n",
       "      <th>16747</th>\n",
       "      <td>29481</td>\n",
       "      <td>Hof</td>\n",
       "      <td>Bayern</td>\n",
       "      <td>Germany</td>\n",
       "      <td>5</td>\n",
       "      <td>Clerical</td>\n",
       "      <td>1</td>\n",
       "      <td>1</td>\n",
       "      <td>0</td>\n",
       "      <td>0</td>\n",
       "      <td>3</td>\n",
       "      <td>66653</td>\n",
       "      <td>38</td>\n",
       "      <td>0</td>\n",
       "    </tr>\n",
       "    <tr>\n",
       "      <th>16748</th>\n",
       "      <td>29482</td>\n",
       "      <td>Saint Ouen</td>\n",
       "      <td>Charente-Maritime</td>\n",
       "      <td>France</td>\n",
       "      <td>4</td>\n",
       "      <td>Clerical</td>\n",
       "      <td>1</td>\n",
       "      <td>0</td>\n",
       "      <td>0</td>\n",
       "      <td>0</td>\n",
       "      <td>3</td>\n",
       "      <td>59736</td>\n",
       "      <td>39</td>\n",
       "      <td>0</td>\n",
       "    </tr>\n",
       "  </tbody>\n",
       "</table>\n",
       "<p>16455 rows × 14 columns</p>\n",
       "</div>"
      ],
      "text/plain": [
       "       CustomerID            City  StateProvinceName CountryRegionName  \\\n",
       "0           11000     Rockhampton         Queensland         Australia   \n",
       "1           11001         Seaford           Victoria         Australia   \n",
       "2           11002          Hobart           Tasmania         Australia   \n",
       "3           11003      North Ryde    New South Wales         Australia   \n",
       "4           11004      Wollongong    New South Wales         Australia   \n",
       "...           ...             ...                ...               ...   \n",
       "16744       29478  Stoke-on-Trent            England    United Kingdom   \n",
       "16745       29479      Versailles            Yveline            France   \n",
       "16746       29480          London            England    United Kingdom   \n",
       "16747       29481             Hof             Bayern           Germany   \n",
       "16748       29482      Saint Ouen  Charente-Maritime            France   \n",
       "\n",
       "       Education    Occupation  Gender  MaritalStatus  NumberCarsOwned  \\\n",
       "0              4  Professional       1              0                0   \n",
       "1              4  Professional       1              1                1   \n",
       "2              4  Professional       1              0                1   \n",
       "3              4  Professional       0              1                1   \n",
       "4              4  Professional       0              1                4   \n",
       "...          ...           ...     ...            ...              ...   \n",
       "16744          5      Clerical       1              1                0   \n",
       "16745          5      Clerical       1              0                0   \n",
       "16746          5      Clerical       0              1                0   \n",
       "16747          5      Clerical       1              1                0   \n",
       "16748          4      Clerical       1              0                0   \n",
       "\n",
       "       NumberChildrenAtHome  TotalChildren  YearlyIncome  Age  BikeBuyer  \n",
       "0                         0              2        137947   32          0  \n",
       "1                         3              3        101141   33          1  \n",
       "2                         3              3         91945   33          0  \n",
       "3                         0              0         86688   30          0  \n",
       "4                         5              5         92771   30          1  \n",
       "...                     ...            ...           ...  ...        ...  \n",
       "16744                     0              3         45986   39          0  \n",
       "16745                     0              1         80049   40          0  \n",
       "16746                     0              3         60417   38          1  \n",
       "16747                     0              3         66653   38          0  \n",
       "16748                     0              3         59736   39          0  \n",
       "\n",
       "[16455 rows x 14 columns]"
      ]
     },
     "execution_count": 9,
     "metadata": {},
     "output_type": "execute_result"
    }
   ],
   "source": [
    "Education_mapping = {'Partial High School' : 1,\n",
    "                     'High School' : 2,\n",
    "                     'Partial College' : 3,\n",
    "                     'Bachelors ' : 4,\n",
    "                     'Graduate Degree' : 5 }\n",
    "\n",
    "traindata['Education'] = traindata['Education'].map(Education_mapping)\n",
    "traindata"
   ]
  },
  {
   "cell_type": "code",
   "execution_count": 10,
   "metadata": {},
   "outputs": [
    {
     "name": "stdout",
     "output_type": "stream",
     "text": [
      "[78159.38887876] [1.57748316e+09]\n",
      "(16455, 1)\n"
     ]
    }
   ],
   "source": [
    "# 標準化年收入\n",
    "cols= ['YearlyIncome']\n",
    "X = traindata[cols]\n",
    "\n",
    "from sklearn.preprocessing import StandardScaler\n",
    "standard = StandardScaler()\n",
    "standard.fit(X)\n",
    "\n",
    "X_std = standard.fit_transform(X)\n",
    "\n",
    "print(standard.mean_,standard.var_)#平均數 標準差\n",
    "print(X_std.shape)\n",
    "traindata['YearlyIncome.std']=X_std"
   ]
  },
  {
   "cell_type": "code",
   "execution_count": 11,
   "metadata": {},
   "outputs": [
    {
     "data": {
      "text/html": [
       "<div>\n",
       "<style scoped>\n",
       "    .dataframe tbody tr th:only-of-type {\n",
       "        vertical-align: middle;\n",
       "    }\n",
       "\n",
       "    .dataframe tbody tr th {\n",
       "        vertical-align: top;\n",
       "    }\n",
       "\n",
       "    .dataframe thead th {\n",
       "        text-align: right;\n",
       "    }\n",
       "</style>\n",
       "<table border=\"1\" class=\"dataframe\">\n",
       "  <thead>\n",
       "    <tr style=\"text-align: right;\">\n",
       "      <th></th>\n",
       "      <th>BikeBuyer</th>\n",
       "      <th>Education</th>\n",
       "      <th>Age</th>\n",
       "      <th>TotalChildren</th>\n",
       "      <th>NumberCarsOwned</th>\n",
       "      <th>Gender</th>\n",
       "      <th>MaritalStatus</th>\n",
       "      <th>NumberChildrenAtHome</th>\n",
       "      <th>YearlyIncome.std</th>\n",
       "      <th>Clerical</th>\n",
       "      <th>Management</th>\n",
       "      <th>Manual</th>\n",
       "      <th>Professional</th>\n",
       "      <th>Skilled Manual</th>\n",
       "    </tr>\n",
       "  </thead>\n",
       "  <tbody>\n",
       "    <tr>\n",
       "      <th>0</th>\n",
       "      <td>0</td>\n",
       "      <td>4</td>\n",
       "      <td>32</td>\n",
       "      <td>2</td>\n",
       "      <td>0</td>\n",
       "      <td>1</td>\n",
       "      <td>0</td>\n",
       "      <td>0</td>\n",
       "      <td>1.505320</td>\n",
       "      <td>0</td>\n",
       "      <td>0</td>\n",
       "      <td>0</td>\n",
       "      <td>1</td>\n",
       "      <td>0</td>\n",
       "    </tr>\n",
       "    <tr>\n",
       "      <th>1</th>\n",
       "      <td>1</td>\n",
       "      <td>4</td>\n",
       "      <td>33</td>\n",
       "      <td>3</td>\n",
       "      <td>1</td>\n",
       "      <td>1</td>\n",
       "      <td>1</td>\n",
       "      <td>3</td>\n",
       "      <td>0.578626</td>\n",
       "      <td>0</td>\n",
       "      <td>0</td>\n",
       "      <td>0</td>\n",
       "      <td>1</td>\n",
       "      <td>0</td>\n",
       "    </tr>\n",
       "    <tr>\n",
       "      <th>2</th>\n",
       "      <td>0</td>\n",
       "      <td>4</td>\n",
       "      <td>33</td>\n",
       "      <td>3</td>\n",
       "      <td>1</td>\n",
       "      <td>1</td>\n",
       "      <td>0</td>\n",
       "      <td>3</td>\n",
       "      <td>0.347091</td>\n",
       "      <td>0</td>\n",
       "      <td>0</td>\n",
       "      <td>0</td>\n",
       "      <td>1</td>\n",
       "      <td>0</td>\n",
       "    </tr>\n",
       "    <tr>\n",
       "      <th>3</th>\n",
       "      <td>0</td>\n",
       "      <td>4</td>\n",
       "      <td>30</td>\n",
       "      <td>0</td>\n",
       "      <td>1</td>\n",
       "      <td>0</td>\n",
       "      <td>1</td>\n",
       "      <td>0</td>\n",
       "      <td>0.214732</td>\n",
       "      <td>0</td>\n",
       "      <td>0</td>\n",
       "      <td>0</td>\n",
       "      <td>1</td>\n",
       "      <td>0</td>\n",
       "    </tr>\n",
       "    <tr>\n",
       "      <th>4</th>\n",
       "      <td>1</td>\n",
       "      <td>4</td>\n",
       "      <td>30</td>\n",
       "      <td>5</td>\n",
       "      <td>4</td>\n",
       "      <td>0</td>\n",
       "      <td>1</td>\n",
       "      <td>5</td>\n",
       "      <td>0.367888</td>\n",
       "      <td>0</td>\n",
       "      <td>0</td>\n",
       "      <td>0</td>\n",
       "      <td>1</td>\n",
       "      <td>0</td>\n",
       "    </tr>\n",
       "    <tr>\n",
       "      <th>...</th>\n",
       "      <td>...</td>\n",
       "      <td>...</td>\n",
       "      <td>...</td>\n",
       "      <td>...</td>\n",
       "      <td>...</td>\n",
       "      <td>...</td>\n",
       "      <td>...</td>\n",
       "      <td>...</td>\n",
       "      <td>...</td>\n",
       "      <td>...</td>\n",
       "      <td>...</td>\n",
       "      <td>...</td>\n",
       "      <td>...</td>\n",
       "      <td>...</td>\n",
       "    </tr>\n",
       "    <tr>\n",
       "      <th>16744</th>\n",
       "      <td>0</td>\n",
       "      <td>5</td>\n",
       "      <td>39</td>\n",
       "      <td>3</td>\n",
       "      <td>0</td>\n",
       "      <td>1</td>\n",
       "      <td>1</td>\n",
       "      <td>0</td>\n",
       "      <td>-0.810055</td>\n",
       "      <td>1</td>\n",
       "      <td>0</td>\n",
       "      <td>0</td>\n",
       "      <td>0</td>\n",
       "      <td>0</td>\n",
       "    </tr>\n",
       "    <tr>\n",
       "      <th>16745</th>\n",
       "      <td>0</td>\n",
       "      <td>5</td>\n",
       "      <td>40</td>\n",
       "      <td>1</td>\n",
       "      <td>0</td>\n",
       "      <td>1</td>\n",
       "      <td>0</td>\n",
       "      <td>0</td>\n",
       "      <td>0.047576</td>\n",
       "      <td>1</td>\n",
       "      <td>0</td>\n",
       "      <td>0</td>\n",
       "      <td>0</td>\n",
       "      <td>0</td>\n",
       "    </tr>\n",
       "    <tr>\n",
       "      <th>16746</th>\n",
       "      <td>1</td>\n",
       "      <td>5</td>\n",
       "      <td>38</td>\n",
       "      <td>3</td>\n",
       "      <td>0</td>\n",
       "      <td>0</td>\n",
       "      <td>1</td>\n",
       "      <td>0</td>\n",
       "      <td>-0.446714</td>\n",
       "      <td>1</td>\n",
       "      <td>0</td>\n",
       "      <td>0</td>\n",
       "      <td>0</td>\n",
       "      <td>0</td>\n",
       "    </tr>\n",
       "    <tr>\n",
       "      <th>16747</th>\n",
       "      <td>0</td>\n",
       "      <td>5</td>\n",
       "      <td>38</td>\n",
       "      <td>3</td>\n",
       "      <td>0</td>\n",
       "      <td>1</td>\n",
       "      <td>1</td>\n",
       "      <td>0</td>\n",
       "      <td>-0.289705</td>\n",
       "      <td>1</td>\n",
       "      <td>0</td>\n",
       "      <td>0</td>\n",
       "      <td>0</td>\n",
       "      <td>0</td>\n",
       "    </tr>\n",
       "    <tr>\n",
       "      <th>16748</th>\n",
       "      <td>0</td>\n",
       "      <td>4</td>\n",
       "      <td>39</td>\n",
       "      <td>3</td>\n",
       "      <td>0</td>\n",
       "      <td>1</td>\n",
       "      <td>0</td>\n",
       "      <td>0</td>\n",
       "      <td>-0.463860</td>\n",
       "      <td>1</td>\n",
       "      <td>0</td>\n",
       "      <td>0</td>\n",
       "      <td>0</td>\n",
       "      <td>0</td>\n",
       "    </tr>\n",
       "  </tbody>\n",
       "</table>\n",
       "<p>16455 rows × 14 columns</p>\n",
       "</div>"
      ],
      "text/plain": [
       "       BikeBuyer  Education  Age  TotalChildren  NumberCarsOwned  Gender  \\\n",
       "0              0          4   32              2                0       1   \n",
       "1              1          4   33              3                1       1   \n",
       "2              0          4   33              3                1       1   \n",
       "3              0          4   30              0                1       0   \n",
       "4              1          4   30              5                4       0   \n",
       "...          ...        ...  ...            ...              ...     ...   \n",
       "16744          0          5   39              3                0       1   \n",
       "16745          0          5   40              1                0       1   \n",
       "16746          1          5   38              3                0       0   \n",
       "16747          0          5   38              3                0       1   \n",
       "16748          0          4   39              3                0       1   \n",
       "\n",
       "       MaritalStatus  NumberChildrenAtHome  YearlyIncome.std  Clerical  \\\n",
       "0                  0                     0          1.505320         0   \n",
       "1                  1                     3          0.578626         0   \n",
       "2                  0                     3          0.347091         0   \n",
       "3                  1                     0          0.214732         0   \n",
       "4                  1                     5          0.367888         0   \n",
       "...              ...                   ...               ...       ...   \n",
       "16744              1                     0         -0.810055         1   \n",
       "16745              0                     0          0.047576         1   \n",
       "16746              1                     0         -0.446714         1   \n",
       "16747              1                     0         -0.289705         1   \n",
       "16748              0                     0         -0.463860         1   \n",
       "\n",
       "       Management  Manual  Professional  Skilled Manual  \n",
       "0               0       0             1               0  \n",
       "1               0       0             1               0  \n",
       "2               0       0             1               0  \n",
       "3               0       0             1               0  \n",
       "4               0       0             1               0  \n",
       "...           ...     ...           ...             ...  \n",
       "16744           0       0             0               0  \n",
       "16745           0       0             0               0  \n",
       "16746           0       0             0               0  \n",
       "16747           0       0             0               0  \n",
       "16748           0       0             0               0  \n",
       "\n",
       "[16455 rows x 14 columns]"
      ]
     },
     "execution_count": 11,
     "metadata": {},
     "output_type": "execute_result"
    }
   ],
   "source": [
    "#加入\"BikeBuyer\" 與其他變數合併 \n",
    "features = traindata[['BikeBuyer','Education','Age','TotalChildren','NumberCarsOwned','Gender','MaritalStatus','NumberChildrenAtHome','YearlyIncome.std']]\n",
    "\n",
    "alldata = pd.concat([features,new_clos], axis=1)\n",
    "alldata"
   ]
  },
  {
   "cell_type": "code",
   "execution_count": 12,
   "metadata": {},
   "outputs": [],
   "source": [
    "#alldata.to_csv('bikebuyer_transform.csv', index = False)\n"
   ]
  },
  {
   "cell_type": "markdown",
   "metadata": {},
   "source": [
    "# 建立logistic regression"
   ]
  },
  {
   "cell_type": "code",
   "execution_count": 13,
   "metadata": {},
   "outputs": [],
   "source": [
    "y = alldata.iloc[:,0] #預測BikeBuyer\n",
    "X = alldata.iloc[:, 1: ]"
   ]
  },
  {
   "cell_type": "code",
   "execution_count": 14,
   "metadata": {},
   "outputs": [
    {
     "data": {
      "text/plain": [
       "((11518, 13), (4937, 13), (11518,), (4937,))"
      ]
     },
     "execution_count": 14,
     "metadata": {},
     "output_type": "execute_result"
    }
   ],
   "source": [
    "#分割alldata為 train test\n",
    "from sklearn.model_selection import train_test_split\n",
    "X_train,X_test,y_train,y_test = train_test_split(X , y , test_size=0.3 , random_state = 0)\n",
    "X_train.shape,X_test.shape,y_train.shape,y_test.shape"
   ]
  },
  {
   "cell_type": "code",
   "execution_count": 15,
   "metadata": {},
   "outputs": [
    {
     "data": {
      "text/plain": [
       "LogisticRegression(max_iter=500)"
      ]
     },
     "execution_count": 15,
     "metadata": {},
     "output_type": "execute_result"
    }
   ],
   "source": [
    "from sklearn.linear_model import LogisticRegression\n",
    "\n",
    "lr=LogisticRegression(solver = 'lbfgs',multi_class = 'auto',max_iter=500 )\n",
    "lr.fit(X_train,y_train)\n"
   ]
  },
  {
   "cell_type": "code",
   "execution_count": 16,
   "metadata": {},
   "outputs": [
    {
     "name": "stdout",
     "output_type": "stream",
     "text": [
      "coef : [[ 0.155716   -0.03473186  0.04662644 -0.0615765   0.65713461  1.51164853\n",
      "   0.73518827  0.49556087 -0.35696759 -0.79842605 -0.15695765 -0.12047825\n",
      "  -0.17192598]]\n",
      "intercept : [-1.66848864]\n"
     ]
    }
   ],
   "source": [
    "print('coef :',lr.coef_)\n",
    "print('intercept :',lr.intercept_)"
   ]
  },
  {
   "cell_type": "code",
   "execution_count": 17,
   "metadata": {},
   "outputs": [
    {
     "data": {
      "text/plain": [
       "(0.7831220698037854, 0.7915738302612922)"
      ]
     },
     "execution_count": 17,
     "metadata": {},
     "output_type": "execute_result"
    }
   ],
   "source": [
    "lr.score(X_train,y_train),lr.score(X_test,y_test)"
   ]
  },
  {
   "cell_type": "code",
   "execution_count": 18,
   "metadata": {},
   "outputs": [
    {
     "data": {
      "text/plain": [
       "array([0, 1, 1, ..., 0, 0, 0], dtype=int64)"
      ]
     },
     "execution_count": 18,
     "metadata": {},
     "output_type": "execute_result"
    }
   ],
   "source": [
    "#16455個predict\n",
    "lr.predict(X)"
   ]
  },
  {
   "cell_type": "code",
   "execution_count": 19,
   "metadata": {},
   "outputs": [
    {
     "data": {
      "text/plain": [
       "array([[0.6859295 , 0.3140705 ],\n",
       "       [0.08112635, 0.91887365],\n",
       "       [0.30986454, 0.69013546],\n",
       "       ...,\n",
       "       [0.75704258, 0.24295742],\n",
       "       [0.59906993, 0.40093007],\n",
       "       [0.89934718, 0.10065282]])"
      ]
     },
     "execution_count": 19,
     "metadata": {},
     "output_type": "execute_result"
    }
   ],
   "source": [
    "#16455個predict分到0 1的機率\n",
    "lr.predict_proba(X)"
   ]
  },
  {
   "cell_type": "markdown",
   "metadata": {},
   "source": [
    "# 分類預測"
   ]
  },
  {
   "cell_type": "code",
   "execution_count": 20,
   "metadata": {},
   "outputs": [
    {
     "data": {
      "text/html": [
       "<div>\n",
       "<style scoped>\n",
       "    .dataframe tbody tr th:only-of-type {\n",
       "        vertical-align: middle;\n",
       "    }\n",
       "\n",
       "    .dataframe tbody tr th {\n",
       "        vertical-align: top;\n",
       "    }\n",
       "\n",
       "    .dataframe thead th {\n",
       "        text-align: right;\n",
       "    }\n",
       "</style>\n",
       "<table border=\"1\" class=\"dataframe\">\n",
       "  <thead>\n",
       "    <tr style=\"text-align: right;\">\n",
       "      <th></th>\n",
       "      <th>prob_0</th>\n",
       "      <th>prob_1</th>\n",
       "      <th>predict_BikeBuyer</th>\n",
       "      <th>BikeBuyer</th>\n",
       "    </tr>\n",
       "  </thead>\n",
       "  <tbody>\n",
       "    <tr>\n",
       "      <th>0</th>\n",
       "      <td>0.685930</td>\n",
       "      <td>0.314070</td>\n",
       "      <td>0</td>\n",
       "      <td>0</td>\n",
       "    </tr>\n",
       "    <tr>\n",
       "      <th>1</th>\n",
       "      <td>0.081126</td>\n",
       "      <td>0.918874</td>\n",
       "      <td>1</td>\n",
       "      <td>1</td>\n",
       "    </tr>\n",
       "    <tr>\n",
       "      <th>2</th>\n",
       "      <td>0.309865</td>\n",
       "      <td>0.690135</td>\n",
       "      <td>1</td>\n",
       "      <td>0</td>\n",
       "    </tr>\n",
       "    <tr>\n",
       "      <th>3</th>\n",
       "      <td>0.657365</td>\n",
       "      <td>0.342635</td>\n",
       "      <td>0</td>\n",
       "      <td>0</td>\n",
       "    </tr>\n",
       "    <tr>\n",
       "      <th>4</th>\n",
       "      <td>0.041144</td>\n",
       "      <td>0.958856</td>\n",
       "      <td>1</td>\n",
       "      <td>1</td>\n",
       "    </tr>\n",
       "    <tr>\n",
       "      <th>...</th>\n",
       "      <td>...</td>\n",
       "      <td>...</td>\n",
       "      <td>...</td>\n",
       "      <td>...</td>\n",
       "    </tr>\n",
       "    <tr>\n",
       "      <th>16450</th>\n",
       "      <td>0.666898</td>\n",
       "      <td>0.333102</td>\n",
       "      <td>0</td>\n",
       "      <td>0</td>\n",
       "    </tr>\n",
       "    <tr>\n",
       "      <th>16451</th>\n",
       "      <td>0.870886</td>\n",
       "      <td>0.129114</td>\n",
       "      <td>0</td>\n",
       "      <td>0</td>\n",
       "    </tr>\n",
       "    <tr>\n",
       "      <th>16452</th>\n",
       "      <td>0.757043</td>\n",
       "      <td>0.242957</td>\n",
       "      <td>0</td>\n",
       "      <td>1</td>\n",
       "    </tr>\n",
       "    <tr>\n",
       "      <th>16453</th>\n",
       "      <td>0.599070</td>\n",
       "      <td>0.400930</td>\n",
       "      <td>0</td>\n",
       "      <td>0</td>\n",
       "    </tr>\n",
       "    <tr>\n",
       "      <th>16454</th>\n",
       "      <td>0.899347</td>\n",
       "      <td>0.100653</td>\n",
       "      <td>0</td>\n",
       "      <td>0</td>\n",
       "    </tr>\n",
       "  </tbody>\n",
       "</table>\n",
       "<p>16455 rows × 4 columns</p>\n",
       "</div>"
      ],
      "text/plain": [
       "         prob_0    prob_1  predict_BikeBuyer  BikeBuyer\n",
       "0      0.685930  0.314070                  0          0\n",
       "1      0.081126  0.918874                  1          1\n",
       "2      0.309865  0.690135                  1          0\n",
       "3      0.657365  0.342635                  0          0\n",
       "4      0.041144  0.958856                  1          1\n",
       "...         ...       ...                ...        ...\n",
       "16450  0.666898  0.333102                  0          0\n",
       "16451  0.870886  0.129114                  0          0\n",
       "16452  0.757043  0.242957                  0          1\n",
       "16453  0.599070  0.400930                  0          0\n",
       "16454  0.899347  0.100653                  0          0\n",
       "\n",
       "[16455 rows x 4 columns]"
      ]
     },
     "execution_count": 20,
     "metadata": {},
     "output_type": "execute_result"
    }
   ],
   "source": [
    "true_y = alldata.iloc[:,0]\n",
    "true_y.reset_index(drop = True , inplace=True)#消除nan\n",
    "\n",
    "predict_y = pd.DataFrame(lr.predict(X),columns=['predict_BikeBuyer'])\n",
    "predict_y_prob = pd.DataFrame(lr.predict_proba(X),columns=['prob_0','prob_1'])\n",
    "\n",
    "\n",
    "new_col = pd.concat([predict_y_prob,predict_y,true_y], axis = 1)\n",
    "new_col\n",
    "#true_y.shape,predict_y.shape,predict_y_prob.shape"
   ]
  },
  {
   "cell_type": "markdown",
   "metadata": {},
   "source": [
    "# K-fold "
   ]
  },
  {
   "cell_type": "code",
   "execution_count": 21,
   "metadata": {},
   "outputs": [
    {
     "data": {
      "text/plain": [
       "(array([0.78689236, 0.77430556, 0.78298611, 0.78940512, 0.77681285]),\n",
       " 0.7820804008660203)"
      ]
     },
     "execution_count": 21,
     "metadata": {},
     "output_type": "execute_result"
    }
   ],
   "source": [
    "from sklearn.model_selection import cross_val_score\n",
    "score = cross_val_score(lr , X_train , y_train , cv = 5)\n",
    "score,score.mean()"
   ]
  },
  {
   "cell_type": "markdown",
   "metadata": {},
   "source": [
    "# 特徵篩選"
   ]
  },
  {
   "cell_type": "code",
   "execution_count": 22,
   "metadata": {},
   "outputs": [
    {
     "data": {
      "text/plain": [
       "array([[ 0.155716  , -0.03473186,  0.04662644, -0.0615765 ,  0.65713461,\n",
       "         1.51164853,  0.73518827,  0.49556087, -0.35696759, -0.79842605,\n",
       "        -0.15695765, -0.12047825, -0.17192598]])"
      ]
     },
     "execution_count": 22,
     "metadata": {},
     "output_type": "execute_result"
    }
   ],
   "source": [
    "from sklearn.feature_selection import SelectFromModel \n",
    "selector = SelectFromModel(estimator = LogisticRegression(solver = 'lbfgs',multi_class = 'auto',max_iter=500 )).fit(X_train,y_train)\n",
    "selector.estimator_.coef_"
   ]
  },
  {
   "cell_type": "code",
   "execution_count": 23,
   "metadata": {},
   "outputs": [
    {
     "data": {
      "text/plain": [
       "array([[ 0.155716  ],\n",
       "       [-0.03473186],\n",
       "       [ 0.04662644],\n",
       "       [-0.0615765 ],\n",
       "       [ 0.65713461],\n",
       "       [ 1.51164853],\n",
       "       [ 0.73518827],\n",
       "       [ 0.49556087],\n",
       "       [-0.35696759],\n",
       "       [-0.79842605],\n",
       "       [-0.15695765],\n",
       "       [-0.12047825],\n",
       "       [-0.17192598]])"
      ]
     },
     "execution_count": 23,
     "metadata": {},
     "output_type": "execute_result"
    }
   ],
   "source": [
    "selector.estimator_.coef_.reshape(13,1)"
   ]
  },
  {
   "cell_type": "code",
   "execution_count": 24,
   "metadata": {},
   "outputs": [
    {
     "data": {
      "text/plain": [
       "0.40791835398953136"
      ]
     },
     "execution_count": 24,
     "metadata": {},
     "output_type": "execute_result"
    }
   ],
   "source": [
    "selector.threshold_"
   ]
  },
  {
   "cell_type": "code",
   "execution_count": 25,
   "metadata": {},
   "outputs": [
    {
     "data": {
      "text/plain": [
       "(array([False, False, False, False,  True,  True,  True,  True, False,\n",
       "         True, False, False, False]),\n",
       " Index(['Education', 'Age', 'TotalChildren', 'NumberCarsOwned', 'Gender',\n",
       "        'MaritalStatus', 'NumberChildrenAtHome', 'YearlyIncome.std', 'Clerical',\n",
       "        'Management', 'Manual', 'Professional', 'Skilled Manual'],\n",
       "       dtype='object'))"
      ]
     },
     "execution_count": 25,
     "metadata": {},
     "output_type": "execute_result"
    }
   ],
   "source": [
    "#特徵重要性\n",
    "selector.get_support(),X_train.columns"
   ]
  },
  {
   "cell_type": "markdown",
   "metadata": {},
   "source": [
    "# 做特徵篩選減少變數"
   ]
  },
  {
   "cell_type": "code",
   "execution_count": 26,
   "metadata": {},
   "outputs": [
    {
     "data": {
      "image/png": "[encoded data removed]",
      "text/plain": [
       "<Figure size 864x288 with 1 Axes>"
      ]
     },
     "metadata": {
      "needs_background": "light"
     },
     "output_type": "display_data"
    },
    {
     "data": {
      "text/html": [
       "<div>\n",
       "<style scoped>\n",
       "    .dataframe tbody tr th:only-of-type {\n",
       "        vertical-align: middle;\n",
       "    }\n",
       "\n",
       "    .dataframe tbody tr th {\n",
       "        vertical-align: top;\n",
       "    }\n",
       "\n",
       "    .dataframe thead th {\n",
       "        text-align: right;\n",
       "    }\n",
       "</style>\n",
       "<table border=\"1\" class=\"dataframe\">\n",
       "  <thead>\n",
       "    <tr style=\"text-align: right;\">\n",
       "      <th></th>\n",
       "      <th>coef</th>\n",
       "    </tr>\n",
       "  </thead>\n",
       "  <tbody>\n",
       "    <tr>\n",
       "      <th>MaritalStatus</th>\n",
       "      <td>1.511649</td>\n",
       "    </tr>\n",
       "    <tr>\n",
       "      <th>NumberChildrenAtHome</th>\n",
       "      <td>0.735188</td>\n",
       "    </tr>\n",
       "    <tr>\n",
       "      <th>Gender</th>\n",
       "      <td>0.657135</td>\n",
       "    </tr>\n",
       "    <tr>\n",
       "      <th>YearlyIncome.std</th>\n",
       "      <td>0.495561</td>\n",
       "    </tr>\n",
       "    <tr>\n",
       "      <th>Education</th>\n",
       "      <td>0.155716</td>\n",
       "    </tr>\n",
       "    <tr>\n",
       "      <th>TotalChildren</th>\n",
       "      <td>0.046626</td>\n",
       "    </tr>\n",
       "    <tr>\n",
       "      <th>Age</th>\n",
       "      <td>-0.034732</td>\n",
       "    </tr>\n",
       "    <tr>\n",
       "      <th>NumberCarsOwned</th>\n",
       "      <td>-0.061576</td>\n",
       "    </tr>\n",
       "    <tr>\n",
       "      <th>Professional</th>\n",
       "      <td>-0.120478</td>\n",
       "    </tr>\n",
       "    <tr>\n",
       "      <th>Manual</th>\n",
       "      <td>-0.156958</td>\n",
       "    </tr>\n",
       "    <tr>\n",
       "      <th>Skilled Manual</th>\n",
       "      <td>-0.171926</td>\n",
       "    </tr>\n",
       "    <tr>\n",
       "      <th>Clerical</th>\n",
       "      <td>-0.356968</td>\n",
       "    </tr>\n",
       "    <tr>\n",
       "      <th>Management</th>\n",
       "      <td>-0.798426</td>\n",
       "    </tr>\n",
       "  </tbody>\n",
       "</table>\n",
       "</div>"
      ],
      "text/plain": [
       "                          coef\n",
       "MaritalStatus         1.511649\n",
       "NumberChildrenAtHome  0.735188\n",
       "Gender                0.657135\n",
       "YearlyIncome.std      0.495561\n",
       "Education             0.155716\n",
       "TotalChildren         0.046626\n",
       "Age                  -0.034732\n",
       "NumberCarsOwned      -0.061576\n",
       "Professional         -0.120478\n",
       "Manual               -0.156958\n",
       "Skilled Manual       -0.171926\n",
       "Clerical             -0.356968\n",
       "Management           -0.798426"
      ]
     },
     "execution_count": 26,
     "metadata": {},
     "output_type": "execute_result"
    }
   ],
   "source": [
    "# 畫圖 從高到低 去畫出 特徵重要性\n",
    "feature_names = ['Education', 'Age', 'TotalChildren', 'NumberCarsOwned', 'Gender',\n",
    "        'MaritalStatus', 'NumberChildrenAtHome', 'YearlyIncome.std', 'Clerical',\n",
    "        'Management', 'Manual', 'Professional', 'Skilled Manual']\n",
    "%matplotlib inline\n",
    "import matplotlib.pyplot as plt\n",
    "# 使用table 方式進行排序\n",
    "feature_importances_sort = pd.DataFrame(abs(selector.estimator_.coef_.reshape(13,1)), columns=['score'])\n",
    "feature_importances_sort['feature'] = feature_names\n",
    "feature_importances_sort = feature_importances_sort.sort_values(by='score', ascending=False)\n",
    "# 使用table 方式進行排序\n",
    "plt.figure(figsize=(12, 4))\n",
    "plt.bar(feature_importances_sort['feature'] , feature_importances_sort['score'])\n",
    "plt.xticks(rotation=-90)\n",
    "plt.show()\n",
    "\n",
    "import numpy as np\n",
    "np.set_printoptions(suppress=True) # 改科學記號\n",
    "\n",
    "new_coef= pd.DataFrame(lr.coef_.reshape(-1,1),X_train.columns, columns=['coef']) \n",
    "new_coef\n",
    "\n",
    "new_coef_sort = new_coef.sort_values(by='coef', ascending=False)\n",
    "new_coef_sort"
   ]
  },
  {
   "cell_type": "markdown",
   "metadata": {},
   "source": [
    "# 選前5個再做一個logit model"
   ]
  },
  {
   "cell_type": "code",
   "execution_count": 27,
   "metadata": {},
   "outputs": [
    {
     "name": "stdout",
     "output_type": "stream",
     "text": [
      "coef : [[1.56219876 0.75023361 0.70891838 0.29608127 0.18675521]]\n",
      "intercept : [-3.32869039]\n"
     ]
    },
    {
     "data": {
      "text/plain": [
       "(0.776089598888696, 0.781648774559449)"
      ]
     },
     "execution_count": 27,
     "metadata": {},
     "output_type": "execute_result"
    }
   ],
   "source": [
    "cols=['MaritalStatus', 'NumberChildrenAtHome', 'Gender', 'YearlyIncome.std','Education']\n",
    "lr2 = LogisticRegression()\n",
    "lr2.fit(X_train[cols],y_train)\n",
    "\n",
    "print('coef :',lr2.coef_)\n",
    "print('intercept :',lr2.intercept_)\n",
    "\n",
    "lr2.score(X_train[cols],y_train),lr2.score(X_test[cols],y_test)"
   ]
  },
  {
   "cell_type": "code",
   "execution_count": 28,
   "metadata": {},
   "outputs": [],
   "source": [
    "# #KBest\n",
    "\n",
    "# from sklearn.feature_selection import SelectKBest\n",
    "# from sklearn.feature_selection import chi2\n",
    "# new_lr = SelectKBest(chi2 , k=5).fit(X_train,y_train)\n",
    "# X_new = new_lr.transform(X_train)"
   ]
  },
  {
   "cell_type": "code",
   "execution_count": 29,
   "metadata": {},
   "outputs": [],
   "source": [
    "# new_lr.scores_,new_lr.pvalues_\n",
    "# selector.get_support()"
   ]
  },
  {
   "cell_type": "code",
   "execution_count": 30,
   "metadata": {},
   "outputs": [
    {
     "name": "stdout",
     "output_type": "stream",
     "text": [
      "coef : [[1.56219876 0.75023361 0.70891838 0.29608127 0.18675521]]\n",
      "intercept : [-3.32869039]\n",
      "[[2986  335]\n",
      " [ 743  873]]\n",
      "              precision    recall  f1-score   support\n",
      "\n",
      "           0       0.80      0.90      0.85      3321\n",
      "           1       0.72      0.54      0.62      1616\n",
      "\n",
      "    accuracy                           0.78      4937\n",
      "   macro avg       0.76      0.72      0.73      4937\n",
      "weighted avg       0.78      0.78      0.77      4937\n",
      "\n"
     ]
    }
   ],
   "source": [
    "from sklearn.metrics import confusion_matrix,classification_report\n",
    "\n",
    "cols=['MaritalStatus', 'NumberChildrenAtHome', 'Gender', 'YearlyIncome.std','Education']\n",
    "lr2 = LogisticRegression()\n",
    "lr2.fit(X_train[cols],y_train)\n",
    "\n",
    "print('coef :',lr2.coef_)\n",
    "print('intercept :',lr2.intercept_)\n",
    "\n",
    "lr2.score(X_train[cols],y_train),lr2.score(X_test[cols],y_test)\n",
    "\n",
    "y_pred = lr2.predict(X_test[cols])\n",
    "\n",
    "c_matrix = confusion_matrix(y_test,y_pred)\n",
    "c_report = classification_report(y_test,y_pred)\n",
    "print(c_matrix)\n",
    "print(c_report)"
   ]
  },
  {
   "cell_type": "markdown",
   "metadata": {},
   "source": [
    "# 預測500新客戶會不會買?"
   ]
  },
  {
   "cell_type": "code",
   "execution_count": 31,
   "metadata": {},
   "outputs": [
    {
     "data": {
      "text/plain": [
       "Index(['BikeBuyer', 'Education', 'Age', 'TotalChildren', 'NumberCarsOwned',\n",
       "       'Gender', 'MaritalStatus', 'NumberChildrenAtHome', 'YearlyIncome.std',\n",
       "       'Clerical', 'Management', 'Manual', 'Professional', 'Skilled Manual'],\n",
       "      dtype='object')"
      ]
     },
     "execution_count": 31,
     "metadata": {},
     "output_type": "execute_result"
    }
   ],
   "source": [
    "testdata = pd.read_csv('bikebuyer_transform_test.csv',encoding = 'utf-8-sig',index_col = False) \n",
    "testdata.columns"
   ]
  },
  {
   "cell_type": "code",
   "execution_count": 32,
   "metadata": {},
   "outputs": [
    {
     "name": "stderr",
     "output_type": "stream",
     "text": [
      "c:\\python37\\lib\\site-packages\\sklearn\\base.py:493: FutureWarning: The feature names should match those that were passed during fit. Starting version 1.2, an error will be raised.\n",
      "Feature names unseen at fit time:\n",
      "- Management\n",
      "Feature names seen at fit time, yet now missing:\n",
      "- Education\n",
      "\n",
      "  warnings.warn(message, FutureWarning)\n"
     ]
    },
    {
     "data": {
      "text/plain": [
       "array([0, 0, 0, 0, 0, 0, 1, 1, 1, 0, 0, 0, 0, 0, 0, 0, 0, 0, 1, 0, 0, 0,\n",
       "       1, 0, 0, 0, 0, 1, 0, 0, 0, 0, 0, 0, 0, 1, 1, 0, 0, 0, 0, 0, 0, 0,\n",
       "       0, 0, 0, 0, 1, 0, 0, 0, 0, 0, 0, 0, 0, 0, 0, 0, 0, 0, 0, 0, 0, 0,\n",
       "       0, 1, 0, 0, 0, 0, 0, 0, 0, 0, 1, 0, 0, 0, 0, 0, 0, 0, 0, 0, 0, 1,\n",
       "       1, 0, 0, 0, 0, 0, 0, 1, 0, 0, 0, 0, 1, 0, 0, 1, 0, 0, 0, 0, 0, 0,\n",
       "       0, 0, 0, 0, 0, 0, 0, 0, 0, 0, 1, 0, 0, 0, 0, 0, 0, 0, 1, 1, 0, 0,\n",
       "       1, 0, 0, 1, 1, 0, 0, 0, 0, 0, 1, 0, 0, 0, 0, 0, 0, 0, 0, 0, 0, 0,\n",
       "       0, 0, 0, 0, 0, 0, 0, 0, 0, 0, 1, 0, 0, 1, 0, 0, 0, 0, 0, 0, 0, 0,\n",
       "       1, 0, 0, 1, 0, 0, 1, 0, 0, 0, 0, 0, 0, 0, 0, 0, 0, 0, 0, 0, 0, 0,\n",
       "       0, 1, 0, 0, 0, 0, 1, 0, 1, 1, 0, 0, 0, 0, 1, 0, 0, 0, 0, 0, 0, 0,\n",
       "       0, 0, 1, 0, 0, 0, 0, 1, 0, 0, 1, 0, 0, 0, 0, 0, 1, 0, 0, 0, 0, 0,\n",
       "       0, 0, 0, 0, 0, 0, 1, 0, 1, 0, 0, 0, 1, 0, 0, 0, 1, 0, 0, 0, 0, 0,\n",
       "       0, 0, 0, 0, 1, 0, 1, 0, 0, 0, 0, 0, 1, 0, 1, 0, 0, 0, 0, 0, 0, 0,\n",
       "       0, 0, 0, 0, 0, 0, 0, 1, 0, 1, 1, 0, 0, 0, 0, 0, 1, 0, 0, 0, 1, 1,\n",
       "       1, 0, 0, 1, 1, 0, 0, 0, 0, 0, 1, 0, 0, 0, 0, 0, 1, 0, 0, 0, 0, 0,\n",
       "       0, 0, 1, 0, 0, 1, 0, 0, 1, 0, 0, 0, 0, 0, 0, 0, 0, 0, 1, 0, 0, 0,\n",
       "       0, 0, 0, 0, 0, 0, 0, 0, 1, 0, 0, 0, 0, 0, 0, 0, 0, 0, 1, 0, 0, 0,\n",
       "       0, 0, 0, 0, 0, 1, 1, 0, 0, 0, 0, 0, 1, 0, 0, 0, 0, 0, 1, 0, 0, 0,\n",
       "       0, 0, 0, 0, 0, 1, 1, 0, 0, 0, 1, 0, 0, 0, 0, 0, 0, 0, 1, 0, 0, 1,\n",
       "       0, 0, 0, 0, 0, 0, 0, 0, 0, 0, 0, 0, 0, 0, 0, 1, 1, 0, 0, 0, 0, 0,\n",
       "       0, 1, 0, 1, 0, 0, 0, 1, 0, 0, 0, 1, 0, 0, 0, 0, 0, 0, 0, 0, 0, 0,\n",
       "       1, 0, 1, 0, 0, 0, 0, 0, 0, 0, 1, 0, 0, 0, 0, 1, 1, 1, 1, 0, 1, 0,\n",
       "       0, 0, 1, 0, 0, 0, 0, 1, 1, 0, 0, 0, 1, 1, 0, 0], dtype=int64)"
      ]
     },
     "execution_count": 32,
     "metadata": {},
     "output_type": "execute_result"
    }
   ],
   "source": [
    "testdata_predict = lr2.predict(testdata.iloc[:,[5,6,7,8,10]])\n",
    "testdata_predict_prob = lr.predict_proba(testdata.iloc[:,1:])\n",
    "\n",
    "testdata_predict"
   ]
  },
  {
   "cell_type": "code",
   "execution_count": 33,
   "metadata": {},
   "outputs": [
    {
     "name": "stdout",
     "output_type": "stream",
     "text": [
      "[[302 108]\n",
      " [ 20  70]]\n",
      "              precision    recall  f1-score   support\n",
      "\n",
      "           0       0.94      0.74      0.83       410\n",
      "           1       0.39      0.78      0.52        90\n",
      "\n",
      "    accuracy                           0.74       500\n",
      "   macro avg       0.67      0.76      0.67       500\n",
      "weighted avg       0.84      0.74      0.77       500\n",
      "\n"
     ]
    }
   ],
   "source": [
    "# registic regression 500 result (Accruacy/precision/recall f1-score)\n",
    "predict_buyer = testdata_predict\n",
    "true_buyer = testdata.iloc[:,0]\n",
    "\n",
    "from sklearn.metrics import confusion_matrix,classification_report\n",
    "c_matrix = confusion_matrix(predict_buyer,true_buyer)\n",
    "c_report = classification_report(predict_buyer,true_buyer)\n",
    "print(c_matrix)\n",
    "print(c_report)"
   ]
  },
  {
   "cell_type": "markdown",
   "metadata": {},
   "source": [
    "# 額外嘗試"
   ]
  },
  {
   "cell_type": "code",
   "execution_count": 34,
   "metadata": {},
   "outputs": [],
   "source": [
    "from imblearn.over_sampling import SMOTE\n",
    "from imblearn.combine import SMOTETomek"
   ]
  },
  {
   "cell_type": "code",
   "execution_count": 35,
   "metadata": {},
   "outputs": [],
   "source": [
    "smote = SMOTE(sampling_strategy='auto',k_neighbors = 6, random_state=123)\n",
    "smt = SMOTETomek(sampling_strategy='auto',smote = smote , random_state=123)\n",
    "X_resampled, y_resampled = smt.fit_resample(X_train, y_train)"
   ]
  },
  {
   "cell_type": "code",
   "execution_count": 36,
   "metadata": {},
   "outputs": [
    {
     "data": {
      "text/plain": [
       "array([[ 0.10017386, -0.04044011,  0.046833  , -0.16670398,  0.46585504,\n",
       "         1.48730549,  0.86425812,  0.74490642, -2.34882207, -3.19824077,\n",
       "        -2.15179839, -2.26741491, -2.35390513]])"
      ]
     },
     "execution_count": 36,
     "metadata": {},
     "output_type": "execute_result"
    }
   ],
   "source": [
    "selector = SelectFromModel(estimator = LogisticRegression(solver = 'lbfgs',multi_class = 'auto',max_iter=500 )).fit(X_resampled,y_resampled)\n",
    "selector.estimator_.coef_"
   ]
  },
  {
   "cell_type": "code",
   "execution_count": 37,
   "metadata": {},
   "outputs": [
    {
     "data": {
      "text/plain": [
       "(array([False, False, False, False, False,  True, False, False,  True,\n",
       "         True,  True,  True,  True]),\n",
       " Index(['Education', 'Age', 'TotalChildren', 'NumberCarsOwned', 'Gender',\n",
       "        'MaritalStatus', 'NumberChildrenAtHome', 'YearlyIncome.std', 'Clerical',\n",
       "        'Management', 'Manual', 'Professional', 'Skilled Manual'],\n",
       "       dtype='object'))"
      ]
     },
     "execution_count": 37,
     "metadata": {},
     "output_type": "execute_result"
    }
   ],
   "source": [
    "selector.get_support(),X_train.columns"
   ]
  },
  {
   "cell_type": "code",
   "execution_count": 50,
   "metadata": {},
   "outputs": [
    {
     "name": "stdout",
     "output_type": "stream",
     "text": [
      "coef : [[ 1.42962825  0.8808679  -2.24193836 -2.10588673 -2.55927198 -1.48155554\n",
      "  -1.86527757]]\n",
      "intercept : [0.27369597]\n"
     ]
    },
    {
     "data": {
      "text/plain": [
       "(0.7645223592333977, 0.7496455337249341)"
      ]
     },
     "execution_count": 50,
     "metadata": {},
     "output_type": "execute_result"
    }
   ],
   "source": [
    "cols=['MaritalStatus','NumberChildrenAtHome','Clerical','Management', 'Manual', 'Professional', 'Skilled Manual']\n",
    "lr3 = LogisticRegression()\n",
    "lr3.fit(X_resampled[cols],y_resampled)\n",
    "\n",
    "print('coef :',lr3.coef_)\n",
    "print('intercept :',lr3.intercept_)\n",
    "\n",
    "lr3.score(X_resampled[cols],y_resampled),lr3.score(X_test[cols],y_test)"
   ]
  },
  {
   "cell_type": "code",
   "execution_count": 51,
   "metadata": {},
   "outputs": [
    {
     "name": "stdout",
     "output_type": "stream",
     "text": [
      "[[2607  714]\n",
      " [ 522 1094]]\n",
      "              precision    recall  f1-score   support\n",
      "\n",
      "           0       0.83      0.79      0.81      3321\n",
      "           1       0.61      0.68      0.64      1616\n",
      "\n",
      "    accuracy                           0.75      4937\n",
      "   macro avg       0.72      0.73      0.72      4937\n",
      "weighted avg       0.76      0.75      0.75      4937\n",
      "\n"
     ]
    }
   ],
   "source": [
    "y_pred = lr3.predict(X_test[cols])\n",
    "\n",
    "c_matrix = confusion_matrix(y_test,y_pred)\n",
    "c_report = classification_report(y_test,y_pred)\n",
    "print(c_matrix)\n",
    "print(c_report)"
   ]
  },
  {
   "cell_type": "code",
   "execution_count": 40,
   "metadata": {},
   "outputs": [
    {
     "data": {
      "text/plain": [
       "RandomForestClassifier(max_depth=5, min_samples_split=20)"
      ]
     },
     "execution_count": 40,
     "metadata": {},
     "output_type": "execute_result"
    }
   ],
   "source": [
    "from sklearn.ensemble import RandomForestClassifier\n",
    "clf =RandomForestClassifier(n_estimators=100,\n",
    "                            criterion='gini',#entropy\n",
    "                            max_depth=5,\n",
    "                            min_samples_split = 20,\n",
    "                            min_samples_leaf = 1,\n",
    "                            bootstrap=True) # default max_depth that nodes are expanded until all leaves are pure\n",
    "#clf.fit(X_train, y_train)\n",
    "cols = ['MaritalStatus', 'NumberChildrenAtHome', 'Gender', 'YearlyIncome.std','Education']\n",
    "#建立train模型\n",
    "clf.fit(X_train[cols],y_train)\n"
   ]
  },
  {
   "cell_type": "code",
   "execution_count": 41,
   "metadata": {},
   "outputs": [
    {
     "data": {
      "text/plain": [
       "(0.7807779128320889, 0.7834717439740734)"
      ]
     },
     "execution_count": 41,
     "metadata": {},
     "output_type": "execute_result"
    }
   ],
   "source": [
    "#訓練資料評估 測試資料評估 \n",
    "clf.score(X_train[cols], y_train), clf.score(X_test[cols], y_test)"
   ]
  },
  {
   "cell_type": "code",
   "execution_count": 42,
   "metadata": {},
   "outputs": [
    {
     "data": {
      "text/plain": [
       "(array([0.13581564, 0.60114862, 0.03974388, 0.19186201, 0.03142985]),\n",
       " Index(['Education', 'Age', 'TotalChildren', 'NumberCarsOwned', 'Gender',\n",
       "        'MaritalStatus', 'NumberChildrenAtHome', 'YearlyIncome.std', 'Clerical',\n",
       "        'Management', 'Manual', 'Professional', 'Skilled Manual'],\n",
       "       dtype='object'))"
      ]
     },
     "execution_count": 42,
     "metadata": {},
     "output_type": "execute_result"
    }
   ],
   "source": [
    "# 特徵重要性\n",
    "clf.feature_importances_, X_train.columns"
   ]
  },
  {
   "cell_type": "code",
   "execution_count": 43,
   "metadata": {},
   "outputs": [
    {
     "data": {
      "text/plain": [
       "[('Education', 0.13581563723170564),\n",
       " ('Age', 0.6011486159732421),\n",
       " ('TotalChildren', 0.03974388116082499),\n",
       " ('NumberCarsOwned', 0.19186201495762484),\n",
       " ('Gender', 0.03142985067660258)]"
      ]
     },
     "execution_count": 43,
     "metadata": {},
     "output_type": "execute_result"
    }
   ],
   "source": [
    "[*zip(X_train.columns,clf.feature_importances_)]"
   ]
  },
  {
   "cell_type": "code",
   "execution_count": 44,
   "metadata": {},
   "outputs": [
    {
     "name": "stdout",
     "output_type": "stream",
     "text": [
      "[[286  74]\n",
      " [ 36 104]]\n",
      "              precision    recall  f1-score   support\n",
      "\n",
      "           0       0.89      0.79      0.84       360\n",
      "           1       0.58      0.74      0.65       140\n",
      "\n",
      "    accuracy                           0.78       500\n",
      "   macro avg       0.74      0.77      0.75       500\n",
      "weighted avg       0.80      0.78      0.79       500\n",
      "\n"
     ]
    }
   ],
   "source": [
    "#testdata_predict = xgbc.predict(testdata.iloc[:,[5,6,7,8,10]])\n",
    "testdata_predict = clf.predict(testdata[cols])\n",
    "predict_buyer = testdata_predict\n",
    "true_buyer = testdata.iloc[:,0]\n",
    "\n",
    "c_matrix = confusion_matrix(predict_buyer,true_buyer)\n",
    "c_report = classification_report(predict_buyer,true_buyer)\n",
    "print(c_matrix)\n",
    "print(c_report)"
   ]
  },
  {
   "cell_type": "code",
   "execution_count": 45,
   "metadata": {},
   "outputs": [
    {
     "name": "stdout",
     "output_type": "stream",
     "text": [
      "XGBClassifier(base_score=None, booster=None, colsample_bylevel=None,\n",
      "              colsample_bynode=None, colsample_bytree=None, gamma=None,\n",
      "              gpu_id=None, importance_type='gain', interaction_constraints=None,\n",
      "              learning_rate=None, max_delta_step=None, max_depth=None,\n",
      "              min_child_weight=None, missing=nan, monotone_constraints=None,\n",
      "              n_estimator=2, n_estimators=100, n_jobs=None,\n",
      "              num_parallel_tree=None, random_state=None, reg_alpha=None,\n",
      "              reg_lambda=None, scale_pos_weight=None, subsample=None,\n",
      "              tree_method=None, validate_parameters=None, verbosity=None)\n",
      "[13:10:59] WARNING: C:\\Users\\Administrator\\workspace\\xgboost-win64_release_1.2.0\\src\\learner.cc:516: \n",
      "Parameters: { n_estimator } might not be used.\n",
      "\n",
      "  This may not be accurate due to some parameters are only used in language bindings but\n",
      "  passed down to XGBoost core.  Or some parameters are not used but slip through this\n",
      "  verification. Please open an issue if you find above cases.\n",
      "\n",
      "\n",
      "0.84189963535336 0.77354668827223\n"
     ]
    }
   ],
   "source": [
    "from xgboost import XGBClassifier\n",
    "xgbc = XGBClassifier(n_estimator = 2,\n",
    "                    max_depth = None)#xgb最多6\n",
    "print(xgbc)\n",
    "\n",
    "cols = ['MaritalStatus', 'NumberChildrenAtHome', 'Gender', 'YearlyIncome.std','Education']\n",
    "#建立train模型\n",
    "xgbc.fit(X_train[cols],y_train)\n",
    "print(xgbc.score(X_train[cols],y_train),xgbc.score(X_test[cols],y_test))"
   ]
  },
  {
   "cell_type": "code",
   "execution_count": 46,
   "metadata": {},
   "outputs": [
    {
     "name": "stdout",
     "output_type": "stream",
     "text": [
      "[[286  78]\n",
      " [ 36 100]]\n",
      "              precision    recall  f1-score   support\n",
      "\n",
      "           0       0.89      0.79      0.83       364\n",
      "           1       0.56      0.74      0.64       136\n",
      "\n",
      "    accuracy                           0.77       500\n",
      "   macro avg       0.72      0.76      0.74       500\n",
      "weighted avg       0.80      0.77      0.78       500\n",
      "\n"
     ]
    }
   ],
   "source": [
    "#testdata_predict = xgbc.predict(testdata.iloc[:,[5,6,7,8,10]])\n",
    "testdata_predict = xgbc.predict(testdata[cols])\n",
    "predict_buyer = testdata_predict\n",
    "true_buyer = testdata.iloc[:,0]\n",
    "\n",
    "c_matrix = confusion_matrix(predict_buyer,true_buyer)\n",
    "c_report = classification_report(predict_buyer,true_buyer)\n",
    "print(c_matrix)\n",
    "print(c_report)"
   ]
  },
  {
   "cell_type": "code",
   "execution_count": null,
   "metadata": {},
   "outputs": [],
   "source": []
  },
  {
   "cell_type": "code",
   "execution_count": null,
   "metadata": {},
   "outputs": [],
   "source": []
  }
 ],
 "metadata": {
  "kernelspec": {
   "display_name": "Python 3",
   "language": "python",
   "name": "python3"
  },
  "language_info": {
   "codemirror_mode": {
    "name": "ipython",
    "version": 3
   },
   "file_extension": ".py",
   "mimetype": "text/x-python",
   "name": "python",
   "nbconvert_exporter": "python",
   "pygments_lexer": "ipython3",
   "version": "3.7.5"
  }
 },
 "nbformat": 4,
 "nbformat_minor": 4
}
