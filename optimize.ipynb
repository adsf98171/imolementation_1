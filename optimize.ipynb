{
 "cells": [
  {
   "cell_type": "code",
   "execution_count": 22,
   "metadata": {},
   "outputs": [],
   "source": [
    "import numpy as np\n",
    "from scipy.optimize import minimize"
   ]
  },
  {
   "cell_type": "markdown",
   "metadata": {},
   "source": [
    "這裡假設是\n",
    "\n",
    "工段序號: 1 2 3 4 (I)\n",
    "\n",
    "每個工段耗時: 5 4 3 3 小時\n",
    "\n",
    "人員序號: 1 2 3 4 5 (J)\n",
    "\n",
    "總人數: 10人\n",
    "\n",
    "每個人的工作時數限制: 8 (hrs)"
   ]
  },
  {
   "cell_type": "code",
   "execution_count": 23,
   "metadata": {},
   "outputs": [],
   "source": [
    "I = [1, 2, 3, 4]  # 工段序號\n",
    "J = np.arange(1,11)  # 人員序號\n",
    "x = [18, 15, 10, 10]  # 每個工段的耗時(hrs)\n",
    "N = 10  # 總人數\n",
    "ML = [8 for _ in range(len(J))]  # 每個人的工作時數限制(hrs)\n",
    "S = [ 1, 2, 3, 4, None ,1 ,3 ,4 ,3 ,2]  # 每個人的技能對應工段\n"
   ]
  },
  {
   "cell_type": "code",
   "execution_count": 24,
   "metadata": {},
   "outputs": [],
   "source": [
    "def objective(n_i,sgn = -1): #目標函數\n",
    "    n_i = np.maximum(n_i, 1)\n",
    "    \n",
    "    return sgn*np.min([3600/(x[i]/n_i[i])*0.85 for i in range(len(I))])"
   ]
  },
  {
   "cell_type": "code",
   "execution_count": 25,
   "metadata": {},
   "outputs": [],
   "source": [
    "def constraint1(n_i):     #限制1:保證所有人總和是N\n",
    "    return np.sum(n_i)-N\n",
    "\n",
    "def constraint2(n_i):    #限制2:每個人的工作時間不超過他們的ML\n",
    "    total_time = [0]*len(J)\n",
    "    for j in range(len(J)):\n",
    "        for i in range(len(I)):\n",
    "            if S[j] == i:\n",
    "                total_time[j] += n_i[i]\n",
    "                \n",
    "    return [ML[j]-total_time[j] for j in range(len(J))]\n",
    "    # 計算剩餘工作時數\n",
    "#     remaining_time = [ML[j] - total_time[j] for j in range(len(J))]\n",
    "    \n",
    "#      #輸出每個人的剩餘工作時數\n",
    "#     for j in range(len(J)):\n",
    "        \n",
    "#         print(f\"Person {j}: ML = {ML[j]}, Total time = {total_time[j]}, Remaining time = {remaining_time[j]}\")\n",
    "    \n",
    "#     return remaining_time\n",
    "\n",
    "def constraint3(n_i):\n",
    "    n_i = np.maximum(n_i, 1)\n",
    "    constraints = []\n",
    "    for a in range(len(I)):\n",
    "        for b in range(len(I)):\n",
    "            if a < b :\n",
    "                constraints.append((x[a]/n_i[a]) - (x[b]/n_i[b]))\n",
    "    return constraints"
   ]
  },
  {
   "cell_type": "code",
   "execution_count": 26,
   "metadata": {},
   "outputs": [],
   "source": [
    "#起始值\n",
    "\n",
    "n_i0 = [N/len(I)]*len(I)\n",
    "\n",
    "con1 = {'type':'eq','fun':constraint1}\n",
    "con2 = {'type':'ineq','fun':lambda n_i: np.array(constraint2(n_i))}\n",
    "con3 = {'type':'ineq','fun':lambda n_i: np.array(constraint3(n_i))}\n",
    "cons = [con1, con2, con3]"
   ]
  },
  {
   "cell_type": "code",
   "execution_count": 27,
   "metadata": {},
   "outputs": [],
   "source": [
    "#邊界\n",
    "bounds = [(1,N) for _ in I]"
   ]
  },
  {
   "cell_type": "code",
   "execution_count": 28,
   "metadata": {},
   "outputs": [
    {
     "name": "stdout",
     "output_type": "stream",
     "text": [
      "最佳人數配置:  [3.4, 2.83, 1.89, 1.89]\n",
      "最大化瓶頸工段產量:  577.36\n"
     ]
    }
   ],
   "source": [
    "#最大化objective\n",
    "\n",
    "solution = minimize(objective, n_i0 , method = 'SLSQP', bounds = bounds, constraints = cons)\n",
    "\n",
    "n_i_opt = solution.x\n",
    "n_i_opt = [round(values,2) for values in n_i_opt]#取到小數點第2位\n",
    "\n",
    "\n",
    "print(\"最佳人數配置: \",n_i_opt)\n",
    "print(\"最大化瓶頸工段產量: \",round(-solution.fun,2))\n"
   ]
  },
  {
   "cell_type": "code",
   "execution_count": null,
   "metadata": {},
   "outputs": [],
   "source": []
  },
  {
   "cell_type": "code",
   "execution_count": null,
   "metadata": {},
   "outputs": [],
   "source": []
  }
 ],
 "metadata": {
  "kernelspec": {
   "display_name": "Python 3",
   "language": "python",
   "name": "python3"
  },
  "language_info": {
   "codemirror_mode": {
    "name": "ipython",
    "version": 3
   },
   "file_extension": ".py",
   "mimetype": "text/x-python",
   "name": "python",
   "nbconvert_exporter": "python",
   "pygments_lexer": "ipython3",
   "version": "3.7.5"
  }
 },
 "nbformat": 4,
 "nbformat_minor": 4
}
